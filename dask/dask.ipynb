{
 "cells": [
  {
   "cell_type": "code",
   "execution_count": 13,
   "id": "a087d899",
   "metadata": {},
   "outputs": [],
   "source": [
    "import dask.dataframe as dd\n",
    "from dask.distributed import Client"
   ]
  },
  {
   "cell_type": "markdown",
   "id": "a33091ec",
   "metadata": {},
   "source": [
    "![dask.png](dask.png)"
   ]
  },
  {
   "cell_type": "markdown",
   "id": "c68ee628",
   "metadata": {},
   "source": [
    "* The scheduler tracks all work as a constantly changing DAG\n",
    "* A task is a Python function operating on Python objects\n",
    "* This graph of tasks grows as users submit more computations, fills out as workers complete tasks, and shrinks as users leave or become disinterested in previous results."
   ]
  },
  {
   "cell_type": "markdown",
   "id": "2017a38f",
   "metadata": {},
   "source": [
    "![dask-overview.svg](dask-overview.svg)"
   ]
  },
  {
   "cell_type": "code",
   "execution_count": null,
   "id": "e45d8fd2",
   "metadata": {},
   "outputs": [],
   "source": []
  }
 ],
 "metadata": {
  "kernelspec": {
   "display_name": "Python 3 (ipykernel)",
   "language": "python",
   "name": "python3"
  },
  "language_info": {
   "codemirror_mode": {
    "name": "ipython",
    "version": 3
   },
   "file_extension": ".py",
   "mimetype": "text/x-python",
   "name": "python",
   "nbconvert_exporter": "python",
   "pygments_lexer": "ipython3",
   "version": "3.9.16"
  }
 },
 "nbformat": 4,
 "nbformat_minor": 5
}
