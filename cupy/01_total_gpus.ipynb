{
 "cells": [
  {
   "cell_type": "markdown",
   "id": "cda7a8de",
   "metadata": {},
   "source": [
    "The CuPy library can be installed easily using pip\n",
    "\n",
    "\n",
    "``pip install cupy-cuda102``"
   ]
  },
  {
   "cell_type": "code",
   "execution_count": null,
   "id": "fd813009",
   "metadata": {},
   "outputs": [],
   "source": [
    "import numpy as np\n",
    "\n",
    "#import the CuPy library\n",
    "import cupy as cp"
   ]
  },
  {
   "cell_type": "markdown",
   "id": "0984c7c1",
   "metadata": {},
   "source": [
    " ``nvidia-smi``  is a command we can use to get the statistics GPU devices available in a Node"
   ]
  },
  {
   "cell_type": "code",
   "execution_count": 1,
   "id": "4aed4f82",
   "metadata": {},
   "outputs": [
    {
     "name": "stdout",
     "output_type": "stream",
     "text": [
      "zsh:1: command not found: nvidia-smi\r\n"
     ]
    }
   ],
   "source": [
    "!nvidia-smi"
   ]
  },
  {
   "cell_type": "code",
   "execution_count": null,
   "id": "1faf463d",
   "metadata": {},
   "outputs": [],
   "source": [
    "\n",
    "\n",
    "# nvidia-smi will give the CUDA GPUs in a node from command line.\n",
    "ngpus = cp.cuda.runtime.getDeviceCount()\n",
    "print('#GPU = ' + str(ngpus))\n",
    "\n",
    "for g in range(ngpus):\n",
    "    print(cp.cuda.runtime.getDeviceProperties(g))\n",
    "\n",
    "print('Current Device = ' + str(cp.cuda.runtime.getDevice()))"
   ]
  }
 ],
 "metadata": {
  "kernelspec": {
   "display_name": "Python 3 (ipykernel)",
   "language": "python",
   "name": "python3"
  },
  "language_info": {
   "codemirror_mode": {
    "name": "ipython",
    "version": 3
   },
   "file_extension": ".py",
   "mimetype": "text/x-python",
   "name": "python",
   "nbconvert_exporter": "python",
   "pygments_lexer": "ipython3",
   "version": "3.9.16"
  }
 },
 "nbformat": 4,
 "nbformat_minor": 5
}
