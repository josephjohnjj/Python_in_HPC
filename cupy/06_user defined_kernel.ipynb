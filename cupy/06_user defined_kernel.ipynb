{
 "cells": [
  {
   "cell_type": "code",
   "execution_count": 11,
   "id": "5c818a70",
   "metadata": {},
   "outputs": [],
   "source": [
    "import numpy as np\n",
    "import cupy as cp"
   ]
  },
  {
   "cell_type": "markdown",
   "id": "d8aade57",
   "metadata": {},
   "source": [
    "#### Kernels are functions that will be run on the GPU. CuPy provides easy ways to define three types of CUDA kernels: elementwise kernels, reduction kernels and raw kernels"
   ]
  },
  {
   "cell_type": "markdown",
   "id": "d027fe46",
   "metadata": {},
   "source": [
    "## Elementwise Kernels"
   ]
  },
  {
   "cell_type": "markdown",
   "id": "266a7a78",
   "metadata": {},
   "source": [
    "An element wise kerenel has 4 parts :\n",
    "1. an input argument list:\n",
    "2. an output argument list\n",
    "3. loop body : defines the operation on each element of the argument\n",
    "4. kernel name"
   ]
  },
  {
   "cell_type": "code",
   "execution_count": 12,
   "id": "49912baf",
   "metadata": {},
   "outputs": [],
   "source": [
    "element_diff = cp.ElementwiseKernel('float32 x, float32 y', \n",
    "                                    'float32 z', \n",
    "                                    'z = (x - y)', \n",
    "                                    'element_diff')\n",
    "\n"
   ]
  },
  {
   "cell_type": "code",
   "execution_count": 13,
   "id": "6cd9af79",
   "metadata": {},
   "outputs": [],
   "source": [
    "x = cp.array([1, 2, 3], dtype=np.float32)\n",
    "y = cp.array([4, 5, 6], dtype=np.float32)"
   ]
  },
  {
   "cell_type": "code",
   "execution_count": 14,
   "id": "e2dcb41a",
   "metadata": {},
   "outputs": [
    {
     "name": "stdout",
     "output_type": "stream",
     "text": [
      "[-3. -3. -3.]\n"
     ]
    }
   ],
   "source": [
    "z = element_diff(x, y)\n",
    "print(z)"
   ]
  },
  {
   "cell_type": "code",
   "execution_count": 15,
   "id": "b1c2bd2b",
   "metadata": {},
   "outputs": [
    {
     "name": "stdout",
     "output_type": "stream",
     "text": [
      "[[-3. -3. -3.]]\n"
     ]
    }
   ],
   "source": [
    "z = cp.empty((1, 3), dtype=np.float32)\n",
    "element_diff(x, y, z)\n",
    "print(z)"
   ]
  },
  {
   "cell_type": "markdown",
   "id": "eaf7b9ab",
   "metadata": {},
   "source": [
    "#### What happens when the ndarray is of different dimension?"
   ]
  },
  {
   "cell_type": "code",
   "execution_count": null,
   "id": "2e3dacac",
   "metadata": {},
   "outputs": [],
   "source": []
  },
  {
   "cell_type": "markdown",
   "id": "1eec81d4",
   "metadata": {},
   "source": [
    "#### Type can be inffered from the arguments"
   ]
  },
  {
   "cell_type": "code",
   "execution_count": null,
   "id": "70daf60d",
   "metadata": {},
   "outputs": [],
   "source": [
    "element_diff = cp.ElementwiseKernel('T x, T y', 'T z', 'z = (x - y)', 'element_diff')"
   ]
  },
  {
   "cell_type": "code",
   "execution_count": null,
   "id": "9f18cfc6",
   "metadata": {},
   "outputs": [],
   "source": [
    "x = cp.array([1, 2, 3], dtype=np.float32)\n",
    "y = cp.array([4, 5, 6], dtype=np.float32)\n",
    "\n",
    "z = element_diff(x, y)\n",
    "print(z)\n",
    "\n",
    "x = cp.array([1, 2, 3], dtype=np.int32)\n",
    "y = cp.array([4, 5, 6], dtype=np.int32)\n",
    "\n",
    "z = element_diff(x, y)\n",
    "print(z)"
   ]
  },
  {
   "cell_type": "markdown",
   "id": "455922ff",
   "metadata": {},
   "source": [
    "##### We also write a kernel with manual indexing for some arguments by telling ElementwiseKernel class to use manual indexing by adding the raw keyword preceding the type specifier"
   ]
  },
  {
   "cell_type": "code",
   "execution_count": 54,
   "id": "f5f8675e",
   "metadata": {},
   "outputs": [],
   "source": [
    "# i indicates the index within the loop\n",
    "# _ind.size() indicates total number of elements to apply the elementwise operation\n",
    "\n",
    "element_sum = cp.ElementwiseKernel('T x, raw T y', \n",
    "                                   'T z', 'z = x + y[_ind.size() - i - 1]', \n",
    "                                   'element_sum')\n"
   ]
  },
  {
   "cell_type": "code",
   "execution_count": 55,
   "id": "29becfe0",
   "metadata": {},
   "outputs": [
    {
     "name": "stdout",
     "output_type": "stream",
     "text": [
      "[7. 7. 7.]\n"
     ]
    }
   ],
   "source": [
    "x = cp.array([1, 2, 3], dtype=np.float32)\n",
    "y = cp.array([4, 5, 6], dtype=np.float32)\n",
    "\n",
    "z = element_sum(x, y)\n",
    "print(z)"
   ]
  },
  {
   "cell_type": "markdown",
   "id": "70fbe1e9",
   "metadata": {},
   "source": [
    "## Reduction kernels"
   ]
  },
  {
   "cell_type": "markdown",
   "id": "85a111cd",
   "metadata": {},
   "source": [
    "A reduction kernel has 4 parts :\n",
    "1. Identity value: This value is used for the initial value of reduction.\n",
    "2. Mapping expression: It is used for the pre-processing of each element to be reduced.\n",
    "3. Reduction expression: It is an operator to reduce the multiple mapped values. The special variables a and b are used for its operands.\n",
    "4. Post mapping expression: It is used to transform the resulting reduced values. The special variable a is used as its input. Output should be written to the output parameter."
   ]
  },
  {
   "cell_type": "code",
   "execution_count": 43,
   "id": "32d7595f",
   "metadata": {},
   "outputs": [],
   "source": [
    "reduction_kernel = cp.ReductionKernel(\n",
    "    'T x', # input param\n",
    "    'T y',  # output param\n",
    "    'x',  # map\n",
    "    'a + b',  # reduce\n",
    "    'y = a',  # post-reduction map\n",
    "    '0',  # identity value\n",
    "    'reduction_kernel'  # kernel name\n",
    ")"
   ]
  },
  {
   "cell_type": "code",
   "execution_count": 44,
   "id": "915f5ce9",
   "metadata": {},
   "outputs": [
    {
     "name": "stdout",
     "output_type": "stream",
     "text": [
      "[[0. 1. 2. 3. 4. 5. 6. 7. 8. 9.]]\n"
     ]
    }
   ],
   "source": [
    "x = cp.arange(10, dtype=np.float32).reshape(1, 10)\n",
    "print(x)"
   ]
  },
  {
   "cell_type": "code",
   "execution_count": 45,
   "id": "e8205325",
   "metadata": {},
   "outputs": [
    {
     "data": {
      "text/plain": [
       "array([45.], dtype=float32)"
      ]
     },
     "execution_count": 45,
     "metadata": {},
     "output_type": "execute_result"
    }
   ],
   "source": [
    "reduction_kernel(x, axis=1)"
   ]
  },
  {
   "cell_type": "code",
   "execution_count": 46,
   "id": "be86c29e",
   "metadata": {},
   "outputs": [
    {
     "name": "stdout",
     "output_type": "stream",
     "text": [
      "[[0. 1. 2. 3. 4.]\n",
      " [5. 6. 7. 8. 9.]]\n"
     ]
    }
   ],
   "source": [
    "x = cp.arange(10, dtype=np.float32).reshape(2, 5)\n",
    "print(x)"
   ]
  },
  {
   "cell_type": "code",
   "execution_count": 47,
   "id": "2a320873",
   "metadata": {},
   "outputs": [
    {
     "data": {
      "text/plain": [
       "array([10., 35.], dtype=float32)"
      ]
     },
     "execution_count": 47,
     "metadata": {},
     "output_type": "execute_result"
    }
   ],
   "source": [
    "reduction_kernel(x, axis=1)"
   ]
  },
  {
   "cell_type": "markdown",
   "id": "4cfd163b",
   "metadata": {},
   "source": [
    "#### TODO: Change the above function to find the sum of squares of each element in the array\n",
    "That is, If the array is [2, 3, 4, 5], find 2^2 + 3^2 + 4^2 + 5^2 "
   ]
  },
  {
   "cell_type": "markdown",
   "id": "faabb300",
   "metadata": {},
   "source": [
    "## Raw kernels"
   ]
  },
  {
   "cell_type": "code",
   "execution_count": 51,
   "id": "b1a093a6",
   "metadata": {},
   "outputs": [],
   "source": [
    "\n",
    "add_kernel = cp.RawKernel(r'''\n",
    "    extern \"C\" __global__\n",
    "    void my_add(const float* x1, const float* x2, float* y) \n",
    "    {\n",
    "        int tid = blockDim.x * blockIdx.x + threadIdx.x;\n",
    "        y[tid] = x1[tid] + x2[tid];\n",
    "    }''', 'my_add')\n",
    "\n"
   ]
  },
  {
   "cell_type": "code",
   "execution_count": 52,
   "id": "d7da8d5b",
   "metadata": {},
   "outputs": [],
   "source": [
    "x = cp.arange(25, dtype=cp.float32).reshape(5, 5)\n",
    "y = cp.arange(25, dtype=cp.float32).reshape(5, 5)\n",
    "z = cp.zeros((5, 5), dtype=cp.float32)\n",
    "\n"
   ]
  },
  {
   "cell_type": "code",
   "execution_count": 53,
   "id": "fbab8a1a",
   "metadata": {},
   "outputs": [
    {
     "name": "stdout",
     "output_type": "stream",
     "text": [
      "[[ 0.  2.  4.  6.  8.]\n",
      " [10. 12. 14. 16. 18.]\n",
      " [20. 22. 24. 26. 28.]\n",
      " [30. 32. 34. 36. 38.]\n",
      " [40. 42. 44. 46. 48.]]\n"
     ]
    }
   ],
   "source": [
    "# When calling a raw kernel ypu have to specify  \n",
    "# how threads are grouped (grids and blocks)\n",
    "# https://developer.nvidia.com/blog/cuda-refresher-cuda-programming-model/\n",
    "\n",
    "add_kernel((5,), (5,), (x, y, z))\n",
    "print(z)"
   ]
  },
  {
   "cell_type": "code",
   "execution_count": null,
   "id": "00bbc3df",
   "metadata": {},
   "outputs": [],
   "source": []
  },
  {
   "cell_type": "code",
   "execution_count": null,
   "id": "10f26bee",
   "metadata": {},
   "outputs": [],
   "source": []
  }
 ],
 "metadata": {
  "kernelspec": {
   "display_name": "Python 3",
   "language": "python",
   "name": "python3"
  },
  "language_info": {
   "codemirror_mode": {
    "name": "ipython",
    "version": 3
   },
   "file_extension": ".py",
   "mimetype": "text/x-python",
   "name": "python",
   "nbconvert_exporter": "python",
   "pygments_lexer": "ipython3",
   "version": "3.8.10"
  }
 },
 "nbformat": 4,
 "nbformat_minor": 5
}
