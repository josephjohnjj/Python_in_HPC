{
 "cells": [
  {
   "cell_type": "markdown",
   "id": "b8fff4cf",
   "metadata": {},
   "source": [
    "# Topics Covered\n",
    "\n",
    "* Race conditions"
   ]
  },
  {
   "cell_type": "code",
   "execution_count": 68,
   "id": "2e089299",
   "metadata": {},
   "outputs": [],
   "source": [
    "import logging\n",
    "import threading\n",
    "import time"
   ]
  },
  {
   "cell_type": "code",
   "execution_count": 84,
   "id": "6dfcb656",
   "metadata": {},
   "outputs": [],
   "source": [
    "logger = logging.getLogger()\n",
    "fhandler = logging.FileHandler(filename='mylog.log', mode='a')\n",
    "formatter = logging.Formatter('%(asctime)s - %(name)s - %(levelname)s - %(message)s')\n",
    "fhandler.setFormatter(formatter)\n",
    "logger.addHandler(fhandler)\n",
    "logger.setLevel(logging.DEBUG)"
   ]
  },
  {
   "cell_type": "code",
   "execution_count": 85,
   "id": "9b70412f",
   "metadata": {},
   "outputs": [],
   "source": [
    "def kernel_function(thread_index):\n",
    "    print(\"I am thread \"+ str(thread_index) + \" with indent \" + str(threading.get_ident()) + \"\\n\" )\n",
    "    time.sleep(2)\n",
    "    print(\"Finishing thread \"+ str(thread_index))"
   ]
  },
  {
   "cell_type": "markdown",
   "id": "3b70b318",
   "metadata": {},
   "source": [
    "When creating a thread you have to pass the function the thread will execute and the arguments to that function."
   ]
  },
  {
   "cell_type": "code",
   "execution_count": 86,
   "id": "9922f3ad",
   "metadata": {},
   "outputs": [
    {
     "name": "stderr",
     "output_type": "stream",
     "text": [
      "INFO:root:Create thread 1\n",
      "INFO:root:Start thread 1\n",
      "INFO:root:Finish thread 1\n",
      "INFO:root:Create thread 2\n",
      "INFO:root:Start thread 2\n",
      "INFO:root:Finish thread 2\n"
     ]
    },
    {
     "name": "stdout",
     "output_type": "stream",
     "text": [
      "I am thread 1 with indent 123145992798208\n",
      "\n",
      "I am thread 2 with indent 123146009587712\n",
      "\n",
      "Finishing 1\n",
      "Finishing 2\n"
     ]
    }
   ],
   "source": [
    "logging.info(\"Create thread 1\")\n",
    "thread_1 = threading.Thread(target=kernel_function, args=(1,))\n",
    "logging.info(\"Start thread 1\")\n",
    "thread_1.start()\n",
    "logging.info(\"Finish thread 1\")\n",
    "\n",
    "logging.info(\"Create thread 2\")\n",
    "thread_2 = threading.Thread(target=kernel_function, args=(2,))\n",
    "logging.info(\"Start thread 2\")\n",
    "thread_2.start()\n",
    "logging.info(\"Finish thread 2\")\n"
   ]
  },
  {
   "cell_type": "markdown",
   "id": "09280ff1",
   "metadata": {},
   "source": [
    "### Daemon Threads"
   ]
  },
  {
   "cell_type": "markdown",
   "id": "7a682993",
   "metadata": {},
   "source": [
    "* Python will not wait for the completion of daemon threads"
   ]
  },
  {
   "cell_type": "code",
   "execution_count": 87,
   "id": "c979e34e",
   "metadata": {},
   "outputs": [
    {
     "name": "stderr",
     "output_type": "stream",
     "text": [
      "INFO:root:Create thread 1\n",
      "INFO:root:Start thread 1\n",
      "INFO:root:Finish thread 1\n",
      "INFO:root:Create thread 2\n",
      "INFO:root:Start thread 2\n",
      "INFO:root:Finish thread 2\n"
     ]
    },
    {
     "name": "stdout",
     "output_type": "stream",
     "text": [
      "I am thread 0 with indent 123145992798208\n",
      "\n",
      "I am thread 2 with indent 123146009587712\n",
      "\n",
      "Finishing 0\n",
      "Finishing 2\n"
     ]
    }
   ],
   "source": [
    "logging.info(\"Create thread 1\")\n",
    "thread_1 = threading.Thread(target=kernel_function, args=(1,))\n",
    "logging.info(\"Start thread 1\")\n",
    "thread_1.start()\n",
    "logging.info(\"Finish thread 1\")\n",
    "\n",
    "logging.info(\"Create thread 2\")\n",
    "thread_2 = threading.Thread(target=kernel_function, args=(2,), daemon=True)\n",
    "logging.info(\"Start thread 2\")\n",
    "thread_2.start()\n",
    "logging.info(\"Finish thread 2\")"
   ]
  },
  {
   "cell_type": "code",
   "execution_count": null,
   "id": "c11d51e4",
   "metadata": {},
   "outputs": [],
   "source": []
  },
  {
   "cell_type": "code",
   "execution_count": null,
   "id": "3275cbfc",
   "metadata": {},
   "outputs": [],
   "source": []
  }
 ],
 "metadata": {
  "kernelspec": {
   "display_name": "Python 3 (ipykernel)",
   "language": "python",
   "name": "python3"
  },
  "language_info": {
   "codemirror_mode": {
    "name": "ipython",
    "version": 3
   },
   "file_extension": ".py",
   "mimetype": "text/x-python",
   "name": "python",
   "nbconvert_exporter": "python",
   "pygments_lexer": "ipython3",
   "version": "3.9.14"
  }
 },
 "nbformat": 4,
 "nbformat_minor": 5
}
