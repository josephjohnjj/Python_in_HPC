{
 "cells": [
  {
   "cell_type": "code",
   "execution_count": 16,
   "id": "f48c4763",
   "metadata": {},
   "outputs": [],
   "source": [
    "import numba\n",
    "from numba import jit, int32, prange, vectorize, float64\n",
    "import numpy as np\n",
    "import math\n",
    "from numba import cuda"
   ]
  },
  {
   "cell_type": "code",
   "execution_count": 2,
   "id": "6295cefa",
   "metadata": {},
   "outputs": [],
   "source": [
    "# Function that calculates the value of Pi using monte-carlo method\n",
    "# Minimal use of Numpy\n",
    "def native_python_monte_carlo(n):\n",
    "    within_circle = 0\n",
    "    \n",
    "    for i in range(int(n)):\n",
    "        x = np.random.random()\n",
    "        y = np.random.random()\n",
    "        \n",
    "        if x**2 + y**2 <= 1.0:\n",
    "            within_circle += 1\n",
    "        \n",
    "    return 4.0 * within_circle / n"
   ]
  },
  {
   "cell_type": "code",
   "execution_count": 3,
   "id": "3d292de9",
   "metadata": {},
   "outputs": [
    {
     "name": "stdout",
     "output_type": "stream",
     "text": [
      "3.1420436\n",
      "CPU times: user 9.37 s, sys: 12.3 ms, total: 9.38 s\n",
      "Wall time: 9.38 s\n"
     ]
    }
   ],
   "source": [
    "%%time\n",
    "print(native_python_monte_carlo(10000000))"
   ]
  },
  {
   "cell_type": "code",
   "execution_count": 4,
   "id": "61dd0791",
   "metadata": {},
   "outputs": [],
   "source": [
    "# Function that calculates the value of Pi using monte-carlo method\n",
    "# Leveraged numpy as far as possible\n",
    "\n",
    "def numpy_python_monte_carlo(n):\n",
    "    within_circle = 0\n",
    "    \n",
    "    x = np.random.random(int(n))\n",
    "    y = np.random.random(int(n))\n",
    "        \n",
    "    within_circle = np.sum( (x**2 + y**2) <= 1.0 )\n",
    "        \n",
    "    return 4.0 * within_circle / n"
   ]
  },
  {
   "cell_type": "code",
   "execution_count": 5,
   "id": "bcde6e9a",
   "metadata": {},
   "outputs": [
    {
     "name": "stdout",
     "output_type": "stream",
     "text": [
      "3.1411372\n",
      "CPU times: user 156 ms, sys: 55.2 ms, total: 211 ms\n",
      "Wall time: 210 ms\n"
     ]
    }
   ],
   "source": [
    "%%time\n",
    "print(numpy_python_monte_carlo(10000000))"
   ]
  },
  {
   "cell_type": "markdown",
   "id": "40b3aadb",
   "metadata": {
    "solution": "hidden",
    "solution2": "hidden",
    "solution2_first": true
   },
   "source": [
    "### Use @jit on both functions and see what is the speedup acheived (ignore the first run)\n",
    "* Native python :\n",
    "* Numpy :\n",
    "\n",
    "* Natve python with Numba :\n",
    "* Numpy wuth Numba: "
   ]
  },
  {
   "cell_type": "code",
   "execution_count": 6,
   "id": "aceb2dad",
   "metadata": {
    "solution2": "hidden"
   },
   "outputs": [
    {
     "name": "stderr",
     "output_type": "stream",
     "text": [
      "/jobfs/92590713.gadi-pbs/ipykernel_2094445/3710288336.py:2: NumbaDeprecationWarning: The 'nopython' keyword argument was not supplied to the 'numba.jit' decorator. The implicit default value for this argument is currently False, but it will be changed to True in Numba 0.59.0. See https://numba.readthedocs.io/en/stable/reference/deprecation.html#deprecation-of-object-mode-fall-back-behaviour-when-using-jit for details.\n",
      "  def native_python_monte_carlo(n):\n"
     ]
    }
   ],
   "source": [
    "@jit\n",
    "def native_python_monte_carlo(n):\n",
    "    within_circle = 0\n",
    "    \n",
    "    for i in range(int(n)):\n",
    "        x = np.random.random()\n",
    "        y = np.random.random()\n",
    "        \n",
    "        if x**2 + y**2 <= 1.0:\n",
    "           within_circle += 1\n",
    "        \n",
    "    return 4.0 * within_circle / n\n",
    "\n"
   ]
  },
  {
   "cell_type": "code",
   "execution_count": 7,
   "id": "f71bf3a2",
   "metadata": {
    "solution2": "hidden"
   },
   "outputs": [
    {
     "name": "stderr",
     "output_type": "stream",
     "text": [
      "/jobfs/92590713.gadi-pbs/ipykernel_2094445/2359754169.py:2: NumbaDeprecationWarning: The 'nopython' keyword argument was not supplied to the 'numba.jit' decorator. The implicit default value for this argument is currently False, but it will be changed to True in Numba 0.59.0. See https://numba.readthedocs.io/en/stable/reference/deprecation.html#deprecation-of-object-mode-fall-back-behaviour-when-using-jit for details.\n",
      "  def numpy_python_monte_carlo(n):\n"
     ]
    }
   ],
   "source": [
    "@jit\n",
    "def numpy_python_monte_carlo(n):\n",
    "    within_circle = 0\n",
    "    \n",
    "    x = np.random.random(int(n))\n",
    "    y = np.random.random(int(n))\n",
    "        \n",
    "    within_circle = np.sum( (x**2 + y**2) <= 1.0 )\n",
    "        \n",
    "    return 4.0 * within_circle / n"
   ]
  },
  {
   "cell_type": "markdown",
   "id": "1fe03551",
   "metadata": {
    "solution2": "hidden",
    "solution2_first": true
   },
   "source": [
    "### What is the difference If we use eager compilation (ignore first run)?\n",
    "\n",
    "* Natve python with Numba (Lazy):\n",
    "* Natve python with Numba (Eager):"
   ]
  },
  {
   "cell_type": "code",
   "execution_count": 8,
   "id": "f5569f46",
   "metadata": {
    "solution2": "hidden"
   },
   "outputs": [
    {
     "name": "stderr",
     "output_type": "stream",
     "text": [
      "/jobfs/92590713.gadi-pbs/ipykernel_2094445/3766104392.py:1: NumbaDeprecationWarning: The 'nopython' keyword argument was not supplied to the 'numba.jit' decorator. The implicit default value for this argument is currently False, but it will be changed to True in Numba 0.59.0. See https://numba.readthedocs.io/en/stable/reference/deprecation.html#deprecation-of-object-mode-fall-back-behaviour-when-using-jit for details.\n",
      "  @jit(numba.float32(int32))\n"
     ]
    }
   ],
   "source": [
    "\n",
    "\n",
    "@jit(numba.float32(int32))\n",
    "def native_python_monte_carlo_eager(n):\n",
    "    within_circle = 0\n",
    "    \n",
    "    for i in range(int(n)):\n",
    "        x = np.random.random()\n",
    "        y = np.random.random()\n",
    "        \n",
    "        if x**2 + y**2 <= 1.0:\n",
    "            within_circle += 1\n",
    "        \n",
    "    return 4.0 * within_circle / n"
   ]
  },
  {
   "cell_type": "code",
   "execution_count": 9,
   "id": "1c31bf7b",
   "metadata": {
    "scrolled": true,
    "solution2": "hidden"
   },
   "outputs": [
    {
     "name": "stdout",
     "output_type": "stream",
     "text": [
      "3.1418557167053223\n",
      "CPU times: user 81.6 ms, sys: 4.72 ms, total: 86.3 ms\n",
      "Wall time: 85.2 ms\n"
     ]
    }
   ],
   "source": [
    "%%time\n",
    "print(native_python_monte_carlo_eager(10000000))"
   ]
  },
  {
   "cell_type": "code",
   "execution_count": 10,
   "id": "1197a0e9",
   "metadata": {
    "solution2": "hidden"
   },
   "outputs": [
    {
     "name": "stdout",
     "output_type": "stream",
     "text": [
      "CPU times: user 334 µs, sys: 0 ns, total: 334 µs\n",
      "Wall time: 287 µs\n"
     ]
    },
    {
     "name": "stderr",
     "output_type": "stream",
     "text": [
      "<timed exec>:2: NumbaDeprecationWarning: The 'nopython' keyword argument was not supplied to the 'numba.jit' decorator. The implicit default value for this argument is currently False, but it will be changed to True in Numba 0.59.0. See https://numba.readthedocs.io/en/stable/reference/deprecation.html#deprecation-of-object-mode-fall-back-behaviour-when-using-jit for details.\n"
     ]
    }
   ],
   "source": [
    "%%time\n",
    "@jit\n",
    "def native_python_monte_carlo_lazy(n):\n",
    "    within_circle = 0\n",
    "    \n",
    "    for i in range(int(n)):\n",
    "        x = np.random.random()\n",
    "        y = np.random.random()\n",
    "        \n",
    "        if x**2 + y**2 <= 1.0:\n",
    "            within_circle += 1\n",
    "        \n",
    "    return 4.0 * within_circle / n"
   ]
  },
  {
   "cell_type": "code",
   "execution_count": 11,
   "id": "0504578b",
   "metadata": {
    "scrolled": true,
    "solution2": "hidden"
   },
   "outputs": [
    {
     "name": "stdout",
     "output_type": "stream",
     "text": [
      "3.141616\n",
      "CPU times: user 175 ms, sys: 0 ns, total: 175 ms\n",
      "Wall time: 175 ms\n"
     ]
    }
   ],
   "source": [
    "%%time\n",
    "print(native_python_monte_carlo_lazy(10000000))"
   ]
  },
  {
   "cell_type": "markdown",
   "id": "e4d1d2ac",
   "metadata": {
    "solution2": "hidden",
    "solution2_first": true
   },
   "source": [
    "### What is the difference with and without automatic parallelization (ignore the first run)?\n",
    "hint: use *numba.prange* instead of *range*\n",
    "* With parallel:\n",
    "* Without parallel:"
   ]
  },
  {
   "cell_type": "code",
   "execution_count": 12,
   "id": "22cbf22d",
   "metadata": {
    "solution2": "hidden"
   },
   "outputs": [
    {
     "name": "stderr",
     "output_type": "stream",
     "text": [
      "/jobfs/92590713.gadi-pbs/ipykernel_2094445/3846322881.py:1: NumbaDeprecationWarning: The 'nopython' keyword argument was not supplied to the 'numba.jit' decorator. The implicit default value for this argument is currently False, but it will be changed to True in Numba 0.59.0. See https://numba.readthedocs.io/en/stable/reference/deprecation.html#deprecation-of-object-mode-fall-back-behaviour-when-using-jit for details.\n",
      "  @jit(parallel=True)\n"
     ]
    }
   ],
   "source": [
    "@jit(parallel=True)\n",
    "def native_python_monte_carlo_parallel(n):\n",
    "    within_circle = 0\n",
    "    \n",
    "    for i in numba.prange(int(n)):\n",
    "        x = np.random.random()\n",
    "        y = np.random.random()\n",
    "        \n",
    "        if x**2 + y**2 <= 1.0:\n",
    "            within_circle += 1\n",
    "        \n",
    "    return 4.0 * within_circle / n"
   ]
  },
  {
   "cell_type": "code",
   "execution_count": 13,
   "id": "20abc404",
   "metadata": {
    "solution2": "hidden"
   },
   "outputs": [
    {
     "name": "stdout",
     "output_type": "stream",
     "text": [
      "3.14155\n",
      "CPU times: user 697 ms, sys: 0 ns, total: 697 ms\n",
      "Wall time: 729 ms\n"
     ]
    }
   ],
   "source": [
    "%%time\n",
    "print(native_python_monte_carlo_parallel(10000000))"
   ]
  },
  {
   "cell_type": "markdown",
   "id": "d8965c1c",
   "metadata": {},
   "source": [
    "### Offload the computation to a GPU\n",
    "* Assumptions:\n",
    "    * N <= 512\n",
    "* Hints:\n",
    "    * Launch one block with threads <= 512"
   ]
  },
  {
   "cell_type": "code",
   "execution_count": 21,
   "id": "4e1cdafc",
   "metadata": {
    "solution2": "hidden",
    "solution2_first": true
   },
   "outputs": [],
   "source": [
    "@cuda.jit\n",
    "def native_python_monte_kernel(array_a, array_b, array_c):\n",
    "    # Thread id in a 1D block\n",
    "    tx = cuda.threadIdx.x\n",
    " \n",
    "    if tx < array_a.size:  # Check array boundaries\n",
    "        array_c[tx] = 1 if array_a[tx]**2 + array_b[tx]**2 <= 1.0  else 0"
   ]
  },
  {
   "cell_type": "code",
   "execution_count": 22,
   "id": "1f057f9b",
   "metadata": {
    "solution2": "hidden"
   },
   "outputs": [
    {
     "name": "stdout",
     "output_type": "stream",
     "text": [
      "3.1796875\n"
     ]
    },
    {
     "name": "stderr",
     "output_type": "stream",
     "text": [
      "/scratch/vp91/Training/python3.9-venv/lib/python3.9/site-packages/numba/cuda/cudadrv/devicearray.py:886: NumbaPerformanceWarning: Host array used in CUDA kernel will incur copy overhead to/from device.\n",
      "  warn(NumbaPerformanceWarning(msg))\n"
     ]
    }
   ],
   "source": [
    "n = 512\n",
    "array_a = np.random.random(n)\n",
    "array_b = np.random.random(n)\n",
    "array_c = np.zeros(n)\n",
    "\n",
    "\n",
    "native_python_monte_kernel[1, n](array_a, array_b, array_c)\n",
    "print(4.0 * np.sum(array_c) / n)"
   ]
  },
  {
   "cell_type": "code",
   "execution_count": null,
   "id": "2a6da200",
   "metadata": {},
   "outputs": [],
   "source": []
  }
 ],
 "metadata": {
  "kernelspec": {
   "display_name": "Python 3 (ipykernel)",
   "language": "python",
   "name": "python3"
  },
  "language_info": {
   "codemirror_mode": {
    "name": "ipython",
    "version": 3
   },
   "file_extension": ".py",
   "mimetype": "text/x-python",
   "name": "python",
   "nbconvert_exporter": "python",
   "pygments_lexer": "ipython3",
   "version": "3.9.2"
  }
 },
 "nbformat": 4,
 "nbformat_minor": 5
}
